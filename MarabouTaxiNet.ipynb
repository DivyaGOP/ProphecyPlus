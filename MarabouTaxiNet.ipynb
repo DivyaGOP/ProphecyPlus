{
  "nbformat": 4,
  "nbformat_minor": 0,
  "metadata": {
    "colab": {
      "name": "MarabouTaxiNet.ipynb",
      "provenance": [],
      "collapsed_sections": [],
      "include_colab_link": true
    },
    "kernelspec": {
      "name": "python3",
      "display_name": "Python 3"
    }
  },
  "cells": [
    {
      "cell_type": "markdown",
      "metadata": {
        "id": "view-in-github",
        "colab_type": "text"
      },
      "source": [
        "<a href=\"https://colab.research.google.com/github/safednn-nasa/Prophecy/blob/master/MarabouTaxiNet.ipynb\" target=\"_parent\"><img src=\"https://colab.research.google.com/assets/colab-badge.svg\" alt=\"Open In Colab\"/></a>"
      ]
    },
    {
      "cell_type": "code",
      "metadata": {
        "id": "f2meILLLkLm2",
        "colab_type": "code",
        "outputId": "7d7feca7-06d7-4ce6-8cb5-2011cbfe1b43",
        "colab": {
          "base_uri": "https://localhost:8080/",
          "height": 34
        }
      },
      "source": [
        "!git clone https://github.com/safednn-nasa/Prophecy"
      ],
      "execution_count": 2,
      "outputs": [
        {
          "output_type": "stream",
          "text": [
            "fatal: destination path 'Prophecy' already exists and is not an empty directory.\n"
          ],
          "name": "stdout"
        }
      ]
    },
    {
      "cell_type": "markdown",
      "metadata": {
        "id": "iiN7Zz-lbFYo",
        "colab_type": "text"
      },
      "source": [
        ""
      ]
    },
    {
      "cell_type": "code",
      "metadata": {
        "id": "x8N3T1K4nrsB",
        "colab_type": "code",
        "outputId": "93a0b2ac-9250-47e5-bcb8-5df0a8834a42",
        "colab": {
          "base_uri": "https://localhost:8080/",
          "height": 34
        }
      },
      "source": [
        "# The following is the property file for checking whether it's possible to change a 3 into a 4 while the 4th neuron in the 4th layer, \n",
        "#  and the 4th neuron in the 3rd layer are inactive.\n",
        "# The last two lines set neurons 4_3 and 3_3 to negative\n",
        "!cat Prophecy/propertyTaxiNet.txt"
      ],
      "execution_count": 3,
      "outputs": [
        {
          "output_type": "stream",
          "text": [
            "cat: Prophecy/propertyTaxiNet.txt: No such file or directory\n"
          ],
          "name": "stdout"
        }
      ]
    },
    {
      "cell_type": "code",
      "metadata": {
        "id": "IrAsoKXzpmh1",
        "colab_type": "code",
        "outputId": "a0ce3ac2-76f0-421b-f3fd-3daeee73f594",
        "colab": {
          "base_uri": "https://localhost:8080/",
          "height": 148
        }
      },
      "source": [
        "# We can dump a summary file using thMarabouExamplee flag --summary-file\n",
        "!MarabouExample/Marabou-nosbt MarabouExample/mnist_10_layer.nnet MarabouExample/orig3_tar4_ind9_ep0.03_4_3_neg_3_3_neg.txt --summary-file=result.txt --verbosity=0"
      ],
      "execution_count": 0,
      "outputs": [
        {
          "output_type": "stream",
          "text": [
            "Network: MarabouExample/mnist_10_layer.nnet\n",
            "Number of layers: 12. Input layer size: 784. Output layer size: 10. Number of ReLUs: 100\n",
            "Total number of variables: 994\n",
            "Property: MarabouExample/orig3_tar4_ind9_ep0.03_4_3_neg_3_3_neg.txt\n",
            "\n",
            "UNSAT\n"
          ],
          "name": "stdout"
        }
      ]
    }
  ]
}